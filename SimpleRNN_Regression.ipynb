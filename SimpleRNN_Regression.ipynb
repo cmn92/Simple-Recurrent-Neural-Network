{
  "nbformat": 4,
  "nbformat_minor": 0,
  "metadata": {
    "colab": {
      "provenance": []
    },
    "kernelspec": {
      "name": "python3",
      "display_name": "Python 3"
    },
    "language_info": {
      "name": "python"
    }
  },
  "cells": [
    {
      "cell_type": "code",
      "execution_count": null,
      "metadata": {
        "id": "MscNUQ1VHsX3"
      },
      "outputs": [],
      "source": [
        "import torch\n",
        "import matplotlib.pyplot as plt\n",
        "from torch import tanh"
      ]
    },
    {
      "cell_type": "code",
      "source": [
        "#plot x vs y\n",
        "# plt.scatter(x, y)\n",
        "# plt.show()"
      ],
      "metadata": {
        "colab": {
          "base_uri": "https://localhost:8080/",
          "height": 448
        },
        "collapsed": true,
        "id": "lw30cMWkItF6",
        "outputId": "b1cd5f90-e04e-47e3-ba68-ff26ae66d293"
      },
      "execution_count": null,
      "outputs": [
        {
          "output_type": "execute_result",
          "data": {
            "text/plain": [
              "<matplotlib.collections.PathCollection at 0x7ff038898b20>"
            ]
          },
          "metadata": {},
          "execution_count": 9
        },
        {
          "output_type": "display_data",
          "data": {
            "text/plain": [
              "<Figure size 640x480 with 1 Axes>"
            ],
            "image/png": "[encoded data removed]"
          },
          "metadata": {}
        }
      ]
    },
    {
      "cell_type": "code",
      "source": [
        "# this is my attempt to implement simple RNN architecture\n",
        "class SimpleRNN:\n",
        "    def __init__(self, x, y):\n",
        "        self.x = x\n",
        "        self.y = y\n",
        "\n",
        "        # Initialize weights and biases\n",
        "        torch.manual_seed(42)\n",
        "        self.w_x = torch.randn(1, requires_grad=True)\n",
        "        self.w_h = torch.randn(1, requires_grad=True)\n",
        "        self.w_y = torch.randn(1, requires_grad=True)\n",
        "        self.b = torch.zeros(1, requires_grad=True)\n",
        "        self.b_y = torch.zeros(1, requires_grad=True)\n",
        "        self.hs = []\n",
        "\n",
        "    def compute_hs(self):\n",
        "        self.hs = [torch.zeros_like(self.w_h)]\n",
        "        for t in range(len(self.x)):\n",
        "            prev_h = self.hs[t]\n",
        "            # Remove relu or tanh activation incase true is linear\n",
        "            h_t = torch.relu(self.w_x * self.x[t] + self.w_h * prev_h + self.b)\n",
        "            self.hs.append(h_t)\n",
        "        return self.hs\n",
        "\n",
        "    def compute_y_pred(self):\n",
        "        self.y_pred = []\n",
        "        for t in range(len(self.x)):\n",
        "            y_n = self.w_y * self.hs[t + 1] + self.b_y\n",
        "            self.y_pred.append(y_n)\n",
        "        self.y_pred = torch.stack(self.y_pred).squeeze()\n",
        "        return self.y_pred\n",
        "\n",
        "    def forward(self):\n",
        "        lr = 0.01  # Adjusted learning rate\n",
        "        loss = float('inf')\n",
        "        change_loss = float('inf')\n",
        "        epoch = 0\n",
        "        max_epochs = 5000  # Increased epochs for convergence\n",
        "        while change_loss > 0.000001 and epoch < max_epochs:\n",
        "            # Ensure weights require gradients\n",
        "            self.w_x.requires_grad_()\n",
        "            self.w_h.requires_grad_()\n",
        "            self.w_y.requires_grad_()\n",
        "            self.b.requires_grad_()\n",
        "            self.b_y.requires_grad_()\n",
        "\n",
        "            # Forward pass\n",
        "            self.compute_hs()\n",
        "            self.compute_y_pred()\n",
        "\n",
        "            # Compute loss\n",
        "            loss_t = ((self.y_pred - self.y) ** 2).mean()\n",
        "\n",
        "            # Backward pass\n",
        "            loss_t.backward()\n",
        "\n",
        "            # Update weights\n",
        "            with torch.no_grad():\n",
        "                self.w_x -= lr * self.w_x.grad\n",
        "                self.w_h -= lr * self.w_h.grad\n",
        "                self.w_y -= lr * self.w_y.grad\n",
        "                self.b -= lr * self.b.grad\n",
        "                self.b_y -= lr * self.b_y.grad\n",
        "\n",
        "                # Zero gradients after updating\n",
        "                self.w_x.grad.zero_()\n",
        "                self.w_h.grad.zero_()\n",
        "                self.w_y.grad.zero_()\n",
        "                self.b.grad.zero_()\n",
        "                self.b_y.grad.zero_()\n",
        "\n",
        "            change_loss = abs(loss - loss_t.item())\n",
        "            loss = loss_t.item()\n",
        "            epoch += 1\n",
        "\n",
        "            # Optional: print debug information\n",
        "            if epoch % 500 == 0 or epoch == 1:\n",
        "                print(f\"Epoch {epoch}: Loss={loss:.6f}\")\n",
        "\n",
        "        return self.w_x, self.w_h, self.b, self.w_y, self.b_y, loss\n"
      ],
      "metadata": {
        "id": "o7EQHvcvMbo8"
      },
      "execution_count": null,
      "outputs": []
    },
    {
      "cell_type": "code",
      "source": [
        "# Initialize inputs\n",
        "torch.manual_seed(42)\n",
        "x = torch.randint(1, 10, (100,)).float()\n",
        "y = x ** 2 + 3\n",
        "\n",
        "# Normalize inputs and outputs\n",
        "x_mean = x.mean()\n",
        "x_std = x.std()\n",
        "x_normalized = (x - x_mean) / x_std\n",
        "\n",
        "y_mean = y.mean()\n",
        "y_std = y.std()\n",
        "y_normalized = (y - y_mean) / y_std"
      ],
      "metadata": {
        "id": "JuGOLmz8x1Vs"
      },
      "execution_count": null,
      "outputs": []
    },
    {
      "cell_type": "code",
      "source": [
        "# Train RNN\n",
        "back_propagation = SimpleRNN(x_normalized, y_normalized)\n",
        "w_x, w_h, b, w_y, b_y, loss = back_propagation.forward()\n",
        "\n",
        "# Final predictions\n",
        "final_y_pred_normalized = back_propagation.compute_y_pred()\n",
        "\n",
        "# Denormalize predictions\n",
        "final_y_pred = final_y_pred_normalized * y_std + y_mean\n",
        "\n",
        "print(f\"Final Loss: {loss:.6f}\")\n",
        "print(f\"First 10 Original y: {y[:10]}\")\n",
        "print(f\"First 10 Predicted y: {final_y_pred[:10].detach()}\")"
      ],
      "metadata": {
        "colab": {
          "base_uri": "https://localhost:8080/"
        },
        "id": "6L887dkwx4PB",
        "outputId": "40332f94-be0f-4a6e-b262-753d70a27a13"
      },
      "execution_count": null,
      "outputs": [
        {
          "output_type": "stream",
          "name": "stdout",
          "text": [
            "Epoch 1: Loss=0.899469\n",
            "Epoch 500: Loss=0.021911\n",
            "Epoch 1000: Loss=0.011423\n",
            "Final Loss: 0.011111\n",
            "First 10 Original y: tensor([52., 39., 67., 28.,  4., 12., 67., 39., 28., 12.])\n",
            "First 10 Predicted y: tensor([55.1343, 41.3368, 67.5735, 28.1232,  8.7195,  8.7195, 68.1341, 41.1134,\n",
            "        28.5779,  8.7195])\n"
          ]
        }
      ]
    },
    {
      "cell_type": "code",
      "source": [
        "#plot y , y_pred and x\n",
        "\n",
        "plt.figure(figsize=(10, 6))\n",
        "plt.scatter(x, y, label='Original Data')\n",
        "plt.scatter(x, final_y_pred.detach(), color='red', label='RNN Fitted Curve')\n",
        "plt.legend()\n",
        "plt.show()"
      ],
      "metadata": {
        "colab": {
          "base_uri": "https://localhost:8080/",
          "height": 522
        },
        "id": "9AheN8yNh4J6",
        "outputId": "6ad959d8-c449-4512-f19b-176950cc39c3"
      },
      "execution_count": null,
      "outputs": [
        {
          "output_type": "display_data",
          "data": {
            "text/plain": [
              "<Figure size 1000x600 with 1 Axes>"
            ],
            "image/png": "[encoded data removed]"
          },
          "metadata": {}
        }
      ]
    }
  ]
}